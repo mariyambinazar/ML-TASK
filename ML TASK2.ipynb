{
 "cells": [
  {
   "cell_type": "markdown",
   "id": "02f588a1-fcb5-4c78-850a-1c5f41aaf2c0",
   "metadata": {},
   "source": [
    "**Q1.Suppose a child psychologist claims that the average time working mothers spend talking to their children is at least 11 minutes per day. You conduct a random sample of 1000 working mothers and find they spend an average of 11.5 minutes per day talking with their children. Assume prior research suggests the population standard deviation is 2.3 minutes.Conduct a test with a level of significance of alpha = 0.05.**"
   ]
  },
  {
   "cell_type": "code",
   "execution_count": 1,
   "id": "cee10855-815a-4f44-8bca-7932c6d2fa79",
   "metadata": {},
   "outputs": [],
   "source": [
    "import scipy.stats as stats"
   ]
  },
  {
   "cell_type": "code",
   "execution_count": 2,
   "id": "7daac618-f027-4ec7-8ea1-9539bdd348e3",
   "metadata": {},
   "outputs": [],
   "source": [
    "population_mean=11  # population mean under null hypothesis\n",
    "sample_size=1000    \n",
    "sample_mean=11.5\n",
    "population_std=2.3  # standard deviation of population\n",
    "alpha=0.05          # significance level"
   ]
  },
  {
   "cell_type": "code",
   "execution_count": 3,
   "id": "488de7b5-ade9-4101-8096-4e4ed2a194c3",
   "metadata": {},
   "outputs": [],
   "source": [
    "# calculate z test statistics\n",
    "z_score=(sample_mean-population_mean)/(population_std/(sample_size**0.5))"
   ]
  },
  {
   "cell_type": "code",
   "execution_count": 4,
   "id": "4ffcc601-5af0-4c6a-b258-d6f700956bb4",
   "metadata": {},
   "outputs": [],
   "source": [
    " #calculate the critical value\n",
    "critical_value=stats.norm.ppf(1-alpha)"
   ]
  },
  {
   "cell_type": "code",
   "execution_count": 5,
   "id": "a510b369-64e3-4f3b-b915-e5ec20d0c0cd",
   "metadata": {},
   "outputs": [
    {
     "name": "stdout",
     "output_type": "stream",
     "text": [
      "Z_score :  6.874516652539955\n"
     ]
    }
   ],
   "source": [
    "# print the z score and critical value\n",
    "print(\"Z_score : \",z_score)"
   ]
  },
  {
   "cell_type": "code",
   "execution_count": 6,
   "id": "b59e07dd-30f8-47b6-890d-f66a07b5772a",
   "metadata": {},
   "outputs": [
    {
     "name": "stdout",
     "output_type": "stream",
     "text": [
      "Critical_value : 1.6448536269514722\n"
     ]
    }
   ],
   "source": [
    "print(\"Critical_value :\",critical_value)"
   ]
  },
  {
   "cell_type": "code",
   "execution_count": 7,
   "id": "1423827f-fafc-415d-a3ca-9b4c360feb93",
   "metadata": {},
   "outputs": [
    {
     "name": "stdout",
     "output_type": "stream",
     "text": [
      "Reject null hypothesis\n"
     ]
    }
   ],
   "source": [
    "# compare the z score with the critical value and make a decision\n",
    "if z_score>critical_value:\n",
    "    print(\"Reject null hypothesis\")\n",
    "else:\n",
    "    print(\"Fail to reject null hypothesis\")"
   ]
  },
  {
   "cell_type": "markdown",
   "id": "a72268ee-2552-4ad3-a6c2-62f6a70b9993",
   "metadata": {},
   "source": [
    "**Q2. A coffee shop claims that their average wait time for customers is less than 5 minutes. To test this claim, a sample of 40 customers is taken, and their wait times are recorded. The sample mean wait time is found to be 4.6 minutes with a standard deviation of 0.8 minutes. Perform a hypothesis test at a significance level of 0.05 and determine whether there is enough evidence to support the coffee shop's claim.**"
   ]
  },
  {
   "cell_type": "code",
   "execution_count": 8,
   "id": "707e59f9-f9e3-43aa-a32f-132f9cee6f9b",
   "metadata": {},
   "outputs": [],
   "source": [
    "import scipy.stats as stats"
   ]
  },
  {
   "cell_type": "code",
   "execution_count": 9,
   "id": "2f1ab86e-387f-47ba-8923-3339fd05555c",
   "metadata": {},
   "outputs": [],
   "source": [
    "population_mean=5   # population mean under null hypothesis\n",
    "sample_size=40\n",
    "sample_mean=4.6\n",
    "population_std=0.8  # standard deviation of population\n",
    "alpha=0.05           # significance level"
   ]
  },
  {
   "cell_type": "code",
   "execution_count": 11,
   "id": "73ba6c8b-15ba-41dd-b432-6a4dbdc39a98",
   "metadata": {},
   "outputs": [],
   "source": [
    "# calculate the z test statistics\n",
    "z_score=(sample_mean-population_mean)/(population_std/(sample_size**0.05))"
   ]
  },
  {
   "cell_type": "code",
   "execution_count": 12,
   "id": "c9b38c79-51de-4d4c-8292-dacc13257272",
   "metadata": {},
   "outputs": [],
   "source": [
    "# calculate the z test statistics\n",
    "z_score=(sample_mean-population_mean)/(population_std/(sample_size**0.05))"
   ]
  },
  {
   "cell_type": "code",
   "execution_count": 13,
   "id": "51758042-eb05-4b21-99ed-dcb15d10de5b",
   "metadata": {},
   "outputs": [
    {
     "name": "stdout",
     "output_type": "stream",
     "text": [
      "Z_score :  -0.601274801898418\n"
     ]
    }
   ],
   "source": [
    "# print the z_score and critical value\n",
    "print(\"Z_score : \",z_score)"
   ]
  },
  {
   "cell_type": "code",
   "execution_count": 14,
   "id": "2b255be4-cae0-488f-9c1a-3ffae1631e0c",
   "metadata": {},
   "outputs": [
    {
     "name": "stdout",
     "output_type": "stream",
     "text": [
      "Critical_value :  1.6448536269514722\n"
     ]
    }
   ],
   "source": [
    "print(\"Critical_value : \",critical_value)"
   ]
  },
  {
   "cell_type": "code",
   "execution_count": 15,
   "id": "34fa2b85-34c2-432c-8c89-51a415900f35",
   "metadata": {},
   "outputs": [
    {
     "name": "stdout",
     "output_type": "stream",
     "text": [
      "Reject null hypothesis\n"
     ]
    }
   ],
   "source": [
    "# compare z score with critical value and make a decision\n",
    "if z_score<critical_value:\n",
    "    print(\"Reject null hypothesis\")\n",
    "else:\n",
    "    print(\"Fail to reject null hypothesis\")"
   ]
  },
  {
   "cell_type": "code",
   "execution_count": null,
   "id": "45452fff-02b6-4dc2-9b5f-d55e258ed47b",
   "metadata": {},
   "outputs": [],
   "source": []
  }
 ],
 "metadata": {
  "kernelspec": {
   "display_name": "Python 3 (ipykernel)",
   "language": "python",
   "name": "python3"
  },
  "language_info": {
   "codemirror_mode": {
    "name": "ipython",
    "version": 3
   },
   "file_extension": ".py",
   "mimetype": "text/x-python",
   "name": "python",
   "nbconvert_exporter": "python",
   "pygments_lexer": "ipython3",
   "version": "3.11.4"
  }
 },
 "nbformat": 4,
 "nbformat_minor": 5
}
